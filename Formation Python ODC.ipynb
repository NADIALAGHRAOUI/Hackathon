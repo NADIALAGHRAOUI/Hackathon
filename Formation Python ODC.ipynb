{
 "cells": [
  {
   "cell_type": "code",
   "execution_count": 5,
   "id": "1abd47f8",
   "metadata": {},
   "outputs": [
    {
     "name": "stdout",
     "output_type": "stream",
     "text": [
      "()\n"
     ]
    }
   ],
   "source": [
    "tupleN = tuple()\n",
    "print(tupleN) "
   ]
  },
  {
   "cell_type": "code",
   "execution_count": 6,
   "id": "25a8b4db",
   "metadata": {},
   "outputs": [
    {
     "name": "stdout",
     "output_type": "stream",
     "text": [
      "('nadia', False, 9, 1.1)\n"
     ]
    }
   ],
   "source": [
    "tupleN = (\"nadia\", False, 9, 1.1)\n",
    "print(tupleN)"
   ]
  },
  {
   "cell_type": "code",
   "execution_count": 8,
   "id": "55f4fe0b",
   "metadata": {},
   "outputs": [
    {
     "name": "stdout",
     "output_type": "stream",
     "text": [
      "(5, 10, 15, 20, 25)\n"
     ]
    }
   ],
   "source": [
    "tupleN = 5, 10, 15, 20, 25\n",
    "print(tupleN)"
   ]
  },
  {
   "cell_type": "code",
   "execution_count": 4,
   "id": "7968503d",
   "metadata": {},
   "outputs": [
    {
     "name": "stdout",
     "output_type": "stream",
     "text": [
      "(4, 8, 3)\n",
      "15\n"
     ]
    },
    {
     "ename": "ValueError",
     "evalue": "not enough values to unpack (expected 4, got 3)",
     "output_type": "error",
     "traceback": [
      "\u001b[1;31m---------------------------------------------------------------------------\u001b[0m",
      "\u001b[1;31mValueError\u001b[0m                                Traceback (most recent call last)",
      "Cell \u001b[1;32mIn[4], line 13\u001b[0m\n\u001b[0;32m      9\u001b[0m \u001b[38;5;28mprint\u001b[39m(n1 \u001b[38;5;241m+\u001b[39m n2 \u001b[38;5;241m+\u001b[39m n3)\n\u001b[0;32m     11\u001b[0m \u001b[38;5;66;03m# Attempt to unpack the tuple into more variables (n1, n2, n3, and n4)\u001b[39;00m\n\u001b[0;32m     12\u001b[0m \u001b[38;5;66;03m# This will raise a \"ValueError\" since there are not enough values in the tuple to unpack into all the variables\u001b[39;00m\n\u001b[1;32m---> 13\u001b[0m n1, n2, n3, n4 \u001b[38;5;241m=\u001b[39m tuplex\n",
      "\u001b[1;31mValueError\u001b[0m: not enough values to unpack (expected 4, got 3)"
     ]
    }
   ],
   "source": []
  },
  {
   "cell_type": "code",
   "execution_count": 2,
   "id": "5ae6e68b",
   "metadata": {},
   "outputs": [
    {
     "name": "stdout",
     "output_type": "stream",
     "text": [
      "{1: 1, 0: 9, 9: 2, 8: 5, 3: 4}\n"
     ]
    }
   ],
   "source": [
    "dict1= {1:1, 0:9, 9:2, 8:5, 3:4}\n",
    "print(dict1)"
   ]
  },
  {
   "cell_type": "code",
   "execution_count": 3,
   "id": "ef6aaac3",
   "metadata": {
    "scrolled": true
   },
   "outputs": [
    {
     "name": "stdout",
     "output_type": "stream",
     "text": [
      "[(0, 9), (1, 1), (3, 4), (8, 5), (9, 2)]\n"
     ]
    }
   ],
   "source": [
    "sorted_d = sorted(dict1.items())\n",
    "print(sorted_d)"
   ]
  },
  {
   "cell_type": "code",
   "execution_count": 4,
   "id": "38370b8e",
   "metadata": {},
   "outputs": [
    {
     "name": "stdout",
     "output_type": "stream",
     "text": [
      "[(9, 2), (8, 5), (3, 4), (1, 1), (0, 9)]\n"
     ]
    }
   ],
   "source": [
    "sorted_d = sorted(dict1.items(), reverse=True)\n",
    "print(sorted_d)"
   ]
  },
  {
   "cell_type": "code",
   "execution_count": 5,
   "id": "35b9c33f",
   "metadata": {},
   "outputs": [
    {
     "name": "stdout",
     "output_type": "stream",
     "text": [
      "{1: 1, 0: 9, 9: 2, 8: 5, 3: 4, 2: 24}\n"
     ]
    }
   ],
   "source": [
    "dict1.update({2: 24})\n",
    "print(dict1) "
   ]
  },
  {
   "cell_type": "code",
   "execution_count": 6,
   "id": "197878b4",
   "metadata": {},
   "outputs": [],
   "source": [
    "d1={1:10, 2:20}\n",
    "d2={3:30, 4:40}\n",
    "d3={5:50,6:60}"
   ]
  },
  {
   "cell_type": "code",
   "execution_count": 12,
   "id": "741430a6",
   "metadata": {},
   "outputs": [
    {
     "name": "stdout",
     "output_type": "stream",
     "text": [
      "{1: 10, 2: 20, 3: 30, 4: 40, 5: 50, 6: 60}\n"
     ]
    }
   ],
   "source": [
    "d4 = {}\n",
    "\n",
    "for d in (d1, d2, d3):\n",
    "    d4.update(d)\n",
    "    \n",
    "print(d4)"
   ]
  },
  {
   "cell_type": "code",
   "execution_count": 13,
   "id": "76aee910",
   "metadata": {},
   "outputs": [
    {
     "name": "stdout",
     "output_type": "stream",
     "text": [
      "Key isn't in dict\n"
     ]
    }
   ],
   "source": [
    "def is_key_present(x):\n",
    "    if x in d:\n",
    "        print('Key is in dict')\n",
    "    else:\n",
    "        print('Key isn\\'t in dict')\n",
    "        \n",
    "is_key_present(3)"
   ]
  },
  {
   "cell_type": "code",
   "execution_count": null,
   "id": "4e317fca",
   "metadata": {},
   "outputs": [],
   "source": []
  }
 ],
 "metadata": {
  "kernelspec": {
   "display_name": "Python 3 (ipykernel)",
   "language": "python",
   "name": "python3"
  },
  "language_info": {
   "codemirror_mode": {
    "name": "ipython",
    "version": 3
   },
   "file_extension": ".py",
   "mimetype": "text/x-python",
   "name": "python",
   "nbconvert_exporter": "python",
   "pygments_lexer": "ipython3",
   "version": "3.9.13"
  }
 },
 "nbformat": 4,
 "nbformat_minor": 5
}
